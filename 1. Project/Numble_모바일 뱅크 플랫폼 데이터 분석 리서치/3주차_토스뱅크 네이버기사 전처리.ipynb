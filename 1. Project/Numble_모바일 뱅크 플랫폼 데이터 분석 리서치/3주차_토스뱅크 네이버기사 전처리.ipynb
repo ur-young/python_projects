{
 "cells": [
  {
   "cell_type": "code",
   "execution_count": 1,
   "id": "OfhN8zXd96HE",
   "metadata": {
    "colab": {
     "base_uri": "https://localhost:8080/"
    },
    "executionInfo": {
     "elapsed": 74459,
     "status": "ok",
     "timestamp": 1660994269306,
     "user": {
      "displayName": "윤혜영",
      "userId": "15534613729688136853"
     },
     "user_tz": -540
    },
    "id": "OfhN8zXd96HE",
    "outputId": "a6de755b-c813-4dd4-9567-3e35313f26c2"
   },
   "outputs": [
    {
     "name": "stdout",
     "output_type": "stream",
     "text": [
      "Mounted at /content/drive\n"
     ]
    }
   ],
   "source": [
    "# 드라이브 마운트\n",
    "from google.colab import drive\n",
    "drive.mount('/content/drive')"
   ]
  },
  {
   "cell_type": "code",
   "execution_count": 1,
   "id": "7d92cd39",
   "metadata": {
    "executionInfo": {
     "elapsed": 361,
     "status": "ok",
     "timestamp": 1660994821046,
     "user": {
      "displayName": "윤혜영",
      "userId": "15534613729688136853"
     },
     "user_tz": -540
    },
    "id": "7d92cd39"
   },
   "outputs": [],
   "source": [
    "import pandas as pd\n",
    "import numpy as np"
   ]
  },
  {
   "cell_type": "code",
   "execution_count": 2,
   "id": "7bb5f4d7",
   "metadata": {},
   "outputs": [],
   "source": [
    "tmp1 = pd.read_csv('NaverNews_토스_2020.06.01_2022.08.20_p1_p200.csv')\n",
    "tmp2 = pd.read_csv('NaverNews_토스_2020.06.01_2022.08.20_p201_p400.csv')"
   ]
  },
  {
   "cell_type": "code",
   "execution_count": 11,
   "id": "e5218f9c",
   "metadata": {},
   "outputs": [
    {
     "data": {
      "text/html": [
       "<div>\n",
       "<style scoped>\n",
       "    .dataframe tbody tr th:only-of-type {\n",
       "        vertical-align: middle;\n",
       "    }\n",
       "\n",
       "    .dataframe tbody tr th {\n",
       "        vertical-align: top;\n",
       "    }\n",
       "\n",
       "    .dataframe thead th {\n",
       "        text-align: right;\n",
       "    }\n",
       "</style>\n",
       "<table border=\"1\" class=\"dataframe\">\n",
       "  <thead>\n",
       "    <tr style=\"text-align: right;\">\n",
       "      <th></th>\n",
       "      <th>title</th>\n",
       "      <th>link</th>\n",
       "      <th>content</th>\n",
       "      <th>dates</th>\n",
       "    </tr>\n",
       "  </thead>\n",
       "  <tbody>\n",
       "    <tr>\n",
       "      <th>0</th>\n",
       "      <td>[토스뱅크 “4.5% 한국투자증권 발행어음, 판매 나흘 만에 2000억원 돌파”]</td>\n",
       "      <td>https://n.news.naver.com/mnews/article/366/000...</td>\n",
       "      <td>[\\n\\t\\t\\t        토스뱅크가 ‘내게 맞는 금융상품 찾기’ 서비스를 통해...</td>\n",
       "      <td>2022.08.17.</td>\n",
       "    </tr>\n",
       "    <tr>\n",
       "      <th>1</th>\n",
       "      <td>[비스토스, 스팩소멸방식 10월 상장 예정…\"5년 내 매출 1000억원 목표\"]</td>\n",
       "      <td>https://n.news.naver.com/mnews/article/015/000...</td>\n",
       "      <td>[\\nIPO 기업설명회 개최\\n\\n\\n\\nIPO를 앞두고 기업 설명 중인 이후정 비...</td>\n",
       "      <td>2022.08.18.</td>\n",
       "    </tr>\n",
       "    <tr>\n",
       "      <th>2</th>\n",
       "      <td>[비스토스, 10월 코스닥 상장… \"글로벌 의료기기 선도 기업 목표\"]</td>\n",
       "      <td>https://n.news.naver.com/mnews/article/417/000...</td>\n",
       "      <td>[\\n\\n\\n\\n\\n사진=이미지투데이 생애 전 주기를 아우르는 생체신호 의료기기 전...</td>\n",
       "      <td>2022.08.19.</td>\n",
       "    </tr>\n",
       "    <tr>\n",
       "      <th>3</th>\n",
       "      <td>[토스뱅크 “4.5% 한국투자증권 발행어음, 판매 나흘 만에 2000억원 돌파”]</td>\n",
       "      <td>https://n.news.naver.com/mnews/article/366/000...</td>\n",
       "      <td>[\\n\\t\\t\\t        토스뱅크가 ‘내게 맞는 금융상품 찾기’ 서비스를 통해...</td>\n",
       "      <td>2022.08.17.</td>\n",
       "    </tr>\n",
       "    <tr>\n",
       "      <th>4</th>\n",
       "      <td>[비스토스, 스팩소멸방식 10월 상장 예정…\"5년 내 매출 1000억원 목표\"]</td>\n",
       "      <td>https://n.news.naver.com/mnews/article/015/000...</td>\n",
       "      <td>[\\nIPO 기업설명회 개최\\n\\n\\n\\nIPO를 앞두고 기업 설명 중인 이후정 비...</td>\n",
       "      <td>2022.08.18.</td>\n",
       "    </tr>\n",
       "  </tbody>\n",
       "</table>\n",
       "</div>"
      ],
      "text/plain": [
       "                                           title  \\\n",
       "0  [토스뱅크 “4.5% 한국투자증권 발행어음, 판매 나흘 만에 2000억원 돌파”]   \n",
       "1   [비스토스, 스팩소멸방식 10월 상장 예정…\"5년 내 매출 1000억원 목표\"]   \n",
       "2        [비스토스, 10월 코스닥 상장… \"글로벌 의료기기 선도 기업 목표\"]   \n",
       "3  [토스뱅크 “4.5% 한국투자증권 발행어음, 판매 나흘 만에 2000억원 돌파”]   \n",
       "4   [비스토스, 스팩소멸방식 10월 상장 예정…\"5년 내 매출 1000억원 목표\"]   \n",
       "\n",
       "                                                link  \\\n",
       "0  https://n.news.naver.com/mnews/article/366/000...   \n",
       "1  https://n.news.naver.com/mnews/article/015/000...   \n",
       "2  https://n.news.naver.com/mnews/article/417/000...   \n",
       "3  https://n.news.naver.com/mnews/article/366/000...   \n",
       "4  https://n.news.naver.com/mnews/article/015/000...   \n",
       "\n",
       "                                             content        dates  \n",
       "0  [\\n\\t\\t\\t        토스뱅크가 ‘내게 맞는 금융상품 찾기’ 서비스를 통해...  2022.08.17.  \n",
       "1  [\\nIPO 기업설명회 개최\\n\\n\\n\\nIPO를 앞두고 기업 설명 중인 이후정 비...  2022.08.18.  \n",
       "2  [\\n\\n\\n\\n\\n사진=이미지투데이 생애 전 주기를 아우르는 생체신호 의료기기 전...  2022.08.19.  \n",
       "3  [\\n\\t\\t\\t        토스뱅크가 ‘내게 맞는 금융상품 찾기’ 서비스를 통해...  2022.08.17.  \n",
       "4  [\\nIPO 기업설명회 개최\\n\\n\\n\\nIPO를 앞두고 기업 설명 중인 이후정 비...  2022.08.18.  "
      ]
     },
     "execution_count": 11,
     "metadata": {},
     "output_type": "execute_result"
    }
   ],
   "source": [
    "tmp1.head()"
   ]
  },
  {
   "cell_type": "code",
   "execution_count": 12,
   "id": "81490b11",
   "metadata": {},
   "outputs": [
    {
     "data": {
      "text/html": [
       "<div>\n",
       "<style scoped>\n",
       "    .dataframe tbody tr th:only-of-type {\n",
       "        vertical-align: middle;\n",
       "    }\n",
       "\n",
       "    .dataframe tbody tr th {\n",
       "        vertical-align: top;\n",
       "    }\n",
       "\n",
       "    .dataframe thead th {\n",
       "        text-align: right;\n",
       "    }\n",
       "</style>\n",
       "<table border=\"1\" class=\"dataframe\">\n",
       "  <thead>\n",
       "    <tr style=\"text-align: right;\">\n",
       "      <th></th>\n",
       "      <th>title</th>\n",
       "      <th>link</th>\n",
       "      <th>content</th>\n",
       "      <th>dates</th>\n",
       "    </tr>\n",
       "  </thead>\n",
       "  <tbody>\n",
       "    <tr>\n",
       "      <th>0</th>\n",
       "      <td>[토스뱅크 “4.5% 한국투자증권 발행어음, 판매 나흘 만에 2000억원 돌파”]</td>\n",
       "      <td>https://n.news.naver.com/mnews/article/366/000...</td>\n",
       "      <td>[\\n\\t\\t\\t        토스뱅크가 ‘내게 맞는 금융상품 찾기’ 서비스를 통해...</td>\n",
       "      <td>2022.08.17.</td>\n",
       "    </tr>\n",
       "    <tr>\n",
       "      <th>1</th>\n",
       "      <td>[비스토스, 스팩소멸방식 10월 상장 예정…\"5년 내 매출 1000억원 목표\"]</td>\n",
       "      <td>https://n.news.naver.com/mnews/article/015/000...</td>\n",
       "      <td>[\\nIPO 기업설명회 개최\\n\\n\\n\\nIPO를 앞두고 기업 설명 중인 이후정 비...</td>\n",
       "      <td>2022.08.18.</td>\n",
       "    </tr>\n",
       "    <tr>\n",
       "      <th>2</th>\n",
       "      <td>[비스토스, 10월 코스닥 상장… \"글로벌 의료기기 선도 기업 목표\"]</td>\n",
       "      <td>https://n.news.naver.com/mnews/article/417/000...</td>\n",
       "      <td>[\\n\\n\\n\\n\\n사진=이미지투데이 생애 전 주기를 아우르는 생체신호 의료기기 전...</td>\n",
       "      <td>2022.08.19.</td>\n",
       "    </tr>\n",
       "    <tr>\n",
       "      <th>3</th>\n",
       "      <td>[토스뱅크 “4.5% 한국투자증권 발행어음, 판매 나흘 만에 2000억원 돌파”]</td>\n",
       "      <td>https://n.news.naver.com/mnews/article/366/000...</td>\n",
       "      <td>[\\n\\t\\t\\t        토스뱅크가 ‘내게 맞는 금융상품 찾기’ 서비스를 통해...</td>\n",
       "      <td>2022.08.17.</td>\n",
       "    </tr>\n",
       "    <tr>\n",
       "      <th>4</th>\n",
       "      <td>[비스토스, 스팩소멸방식 10월 상장 예정…\"5년 내 매출 1000억원 목표\"]</td>\n",
       "      <td>https://n.news.naver.com/mnews/article/015/000...</td>\n",
       "      <td>[\\nIPO 기업설명회 개최\\n\\n\\n\\nIPO를 앞두고 기업 설명 중인 이후정 비...</td>\n",
       "      <td>2022.08.18.</td>\n",
       "    </tr>\n",
       "  </tbody>\n",
       "</table>\n",
       "</div>"
      ],
      "text/plain": [
       "                                           title  \\\n",
       "0  [토스뱅크 “4.5% 한국투자증권 발행어음, 판매 나흘 만에 2000억원 돌파”]   \n",
       "1   [비스토스, 스팩소멸방식 10월 상장 예정…\"5년 내 매출 1000억원 목표\"]   \n",
       "2        [비스토스, 10월 코스닥 상장… \"글로벌 의료기기 선도 기업 목표\"]   \n",
       "3  [토스뱅크 “4.5% 한국투자증권 발행어음, 판매 나흘 만에 2000억원 돌파”]   \n",
       "4   [비스토스, 스팩소멸방식 10월 상장 예정…\"5년 내 매출 1000억원 목표\"]   \n",
       "\n",
       "                                                link  \\\n",
       "0  https://n.news.naver.com/mnews/article/366/000...   \n",
       "1  https://n.news.naver.com/mnews/article/015/000...   \n",
       "2  https://n.news.naver.com/mnews/article/417/000...   \n",
       "3  https://n.news.naver.com/mnews/article/366/000...   \n",
       "4  https://n.news.naver.com/mnews/article/015/000...   \n",
       "\n",
       "                                             content        dates  \n",
       "0  [\\n\\t\\t\\t        토스뱅크가 ‘내게 맞는 금융상품 찾기’ 서비스를 통해...  2022.08.17.  \n",
       "1  [\\nIPO 기업설명회 개최\\n\\n\\n\\nIPO를 앞두고 기업 설명 중인 이후정 비...  2022.08.18.  \n",
       "2  [\\n\\n\\n\\n\\n사진=이미지투데이 생애 전 주기를 아우르는 생체신호 의료기기 전...  2022.08.19.  \n",
       "3  [\\n\\t\\t\\t        토스뱅크가 ‘내게 맞는 금융상품 찾기’ 서비스를 통해...  2022.08.17.  \n",
       "4  [\\nIPO 기업설명회 개최\\n\\n\\n\\nIPO를 앞두고 기업 설명 중인 이후정 비...  2022.08.18.  "
      ]
     },
     "execution_count": 12,
     "metadata": {},
     "output_type": "execute_result"
    }
   ],
   "source": [
    "tmp2.head()"
   ]
  },
  {
   "cell_type": "code",
   "execution_count": 13,
   "id": "388db9cb",
   "metadata": {},
   "outputs": [],
   "source": [
    "tmp = pd.concat([tmp1, tmp2])"
   ]
  },
  {
   "cell_type": "code",
   "execution_count": 52,
   "id": "3a6fc885",
   "metadata": {
    "executionInfo": {
     "elapsed": 4,
     "status": "ok",
     "timestamp": 1660994821472,
     "user": {
      "displayName": "윤혜영",
      "userId": "15534613729688136853"
     },
     "user_tz": -540
    },
    "id": "3a6fc885"
   },
   "outputs": [],
   "source": [
    "# tmp = pd.read_csv('/content/drive/MyDrive/numble/NaverNews_토스_2020.06.01_2022.08.20_p1_p3.csv')"
   ]
  },
  {
   "cell_type": "code",
   "execution_count": 26,
   "id": "8c0ad377",
   "metadata": {},
   "outputs": [],
   "source": [
    "tmp.reset_index(drop=True, inplace=True)"
   ]
  },
  {
   "cell_type": "code",
   "execution_count": 27,
   "id": "27483f4c",
   "metadata": {
    "colab": {
     "base_uri": "https://localhost:8080/"
    },
    "executionInfo": {
     "elapsed": 5,
     "status": "ok",
     "timestamp": 1660994821473,
     "user": {
      "displayName": "윤혜영",
      "userId": "15534613729688136853"
     },
     "user_tz": -540
    },
    "id": "27483f4c",
    "outputId": "a0501d17-f000-4b07-a4a4-481388390027"
   },
   "outputs": [
    {
     "data": {
      "text/plain": [
       "(1200, 4)"
      ]
     },
     "execution_count": 27,
     "metadata": {},
     "output_type": "execute_result"
    }
   ],
   "source": [
    "pd.DataFrame(tmp).shape"
   ]
  },
  {
   "cell_type": "code",
   "execution_count": 28,
   "id": "fc0b11c4",
   "metadata": {
    "colab": {
     "base_uri": "https://localhost:8080/"
    },
    "executionInfo": {
     "elapsed": 5,
     "status": "ok",
     "timestamp": 1660994821827,
     "user": {
      "displayName": "윤혜영",
      "userId": "15534613729688136853"
     },
     "user_tz": -540
    },
    "id": "fc0b11c4",
    "outputId": "1bc95876-85ec-4729-e264-dbf4c41a3cd3"
   },
   "outputs": [
    {
     "name": "stdout",
     "output_type": "stream",
     "text": [
      "<class 'pandas.core.frame.DataFrame'>\n",
      "RangeIndex: 1200 entries, 0 to 1199\n",
      "Data columns (total 4 columns):\n",
      " #   Column   Non-Null Count  Dtype \n",
      "---  ------   --------------  ----- \n",
      " 0   title    1200 non-null   object\n",
      " 1   link     1200 non-null   object\n",
      " 2   content  1200 non-null   object\n",
      " 3   dates    1200 non-null   object\n",
      "dtypes: object(4)\n",
      "memory usage: 37.6+ KB\n"
     ]
    }
   ],
   "source": [
    "tmp.info()"
   ]
  },
  {
   "cell_type": "code",
   "execution_count": 29,
   "id": "ff3d5721",
   "metadata": {
    "colab": {
     "base_uri": "https://localhost:8080/"
    },
    "executionInfo": {
     "elapsed": 5,
     "status": "ok",
     "timestamp": 1660994821828,
     "user": {
      "displayName": "윤혜영",
      "userId": "15534613729688136853"
     },
     "user_tz": -540
    },
    "id": "ff3d5721",
    "outputId": "04be1ecb-7c1c-4bb2-9305-05a9d9268484"
   },
   "outputs": [
    {
     "data": {
      "text/plain": [
       "1200"
      ]
     },
     "execution_count": 29,
     "metadata": {},
     "output_type": "execute_result"
    }
   ],
   "source": [
    "len(tmp.content)"
   ]
  },
  {
   "cell_type": "code",
   "execution_count": 30,
   "id": "2e1f5c0b",
   "metadata": {
    "colab": {
     "base_uri": "https://localhost:8080/",
     "height": 237
    },
    "executionInfo": {
     "elapsed": 7,
     "status": "ok",
     "timestamp": 1660994822143,
     "user": {
      "displayName": "윤혜영",
      "userId": "15534613729688136853"
     },
     "user_tz": -540
    },
    "id": "2e1f5c0b",
    "outputId": "4732df65-d08e-4d6f-cc98-eef3e4177144"
   },
   "outputs": [
    {
     "data": {
      "text/plain": [
       "'        토스뱅크가 내게 맞는 금융상품 찾기 서비스를 통해 소개한 한국투자증권의 발행어음 판매금액이 억원을 돌파했다고 일 밝혔다한국투자증권의 발행어음은 토스뱅크가 내게 맞는 금융상품 찾기 서비스를 출시하며 처음 소개한 투자상품이다 토스뱅크를 통해서만 가입이 가능한 특판용 상품으로 최대 연 의 이자를 제공한다토스뱅크 제공        특판 한도인 억원이 출시 일 만에 모두 소진됨에 따라 현재 소개 중인 발행어음은 개월 연 와 년 연  수준의 이자를 제공한다투자 한도는 개인당 만원부터 만원까지 가입할 수 있고 본인의 투자 계획에 맞춰 개월과 년으로 거치 기간을 설정할 수 있다한국투자증권에 따르면 발행어음의 판매 금액이 억원을 돌파한 시점은 영업일 기준 약 일 만이다 출시 첫 날에 약 억원이 한국투자증권 뱅키스 계좌를 통해 판매됐고 일차인 일에는 판매 금액 억원을 넘겼다일평균 판매금액은 약 억원에 달했고 토스뱅크를 통해 한국투자증권 뱅키스 신규 계좌를 개설한 고객도 약 만명에 달했다발행어음 가입자의 연령대별 비중은 대가 로 가장 높았고 대 비중도 로 높았다 가입자의 평균 연령은 세로 금융주도층의 관심이 높았던 것으로 나타났다고 한국투자증권은 설명했다토스뱅크 관계자는 최근 금리 상승기 투자상품으로 적합한 확정 금리형 상품에 대한 관심이 높아지고 있다며 토스뱅크의 혁신성과 자산관리를 선도하는 대형 증권사의 전문성이 시너지를 내며 경쟁력 있는 상품을 소개하게 된 것이 인기의 비결이라고 말했다'"
      ]
     },
     "execution_count": 30,
     "metadata": {},
     "output_type": "execute_result"
    }
   ],
   "source": [
    "# content 하나 확인\n",
    "tmp.content[0] # 공백과 \\n 삭제 필요함"
   ]
  },
  {
   "cell_type": "code",
   "execution_count": 31,
   "id": "dbab18c6",
   "metadata": {
    "colab": {
     "base_uri": "https://localhost:8080/"
    },
    "executionInfo": {
     "elapsed": 5,
     "status": "ok",
     "timestamp": 1660994822144,
     "user": {
      "displayName": "윤혜영",
      "userId": "15534613729688136853"
     },
     "user_tz": -540
    },
    "id": "dbab18c6",
    "outputId": "f2c3bc95-5176-4ff1-936d-bde6b5c4e427"
   },
   "outputs": [
    {
     "name": "stderr",
     "output_type": "stream",
     "text": [
      "C:\\Users\\ellie\\anaconda3\\envs\\sesac\\lib\\site-packages\\ipykernel_launcher.py:2: FutureWarning: The default value of regex will change from True to False in a future version.\n",
      "  \n",
      "C:\\Users\\ellie\\anaconda3\\envs\\sesac\\lib\\site-packages\\ipykernel_launcher.py:3: FutureWarning: The default value of regex will change from True to False in a future version.\n",
      "  This is separate from the ipykernel package so we can avoid doing imports until\n"
     ]
    }
   ],
   "source": [
    "# 정규표현식을 이용해 한글 외 문자 제거 - title, content\n",
    "tmp['title'] = tmp['title'].str.replace('[^ㄱ-ㅎㅏ-ㅣ가-힣 ]','')\n",
    "tmp['content'] = tmp['content'].str.replace('[^ㄱ-ㅎㅏ-ㅣ가-힣 ]','')"
   ]
  },
  {
   "cell_type": "code",
   "execution_count": 32,
   "id": "26b2754c",
   "metadata": {
    "colab": {
     "base_uri": "https://localhost:8080/",
     "height": 886
    },
    "executionInfo": {
     "elapsed": 4,
     "status": "ok",
     "timestamp": 1660994822572,
     "user": {
      "displayName": "윤혜영",
      "userId": "15534613729688136853"
     },
     "user_tz": -540
    },
    "id": "26b2754c",
    "outputId": "f72c51e0-e847-4c03-9609-d4d8a5916fba"
   },
   "outputs": [
    {
     "data": {
      "text/html": [
       "<div>\n",
       "<style scoped>\n",
       "    .dataframe tbody tr th:only-of-type {\n",
       "        vertical-align: middle;\n",
       "    }\n",
       "\n",
       "    .dataframe tbody tr th {\n",
       "        vertical-align: top;\n",
       "    }\n",
       "\n",
       "    .dataframe thead th {\n",
       "        text-align: right;\n",
       "    }\n",
       "</style>\n",
       "<table border=\"1\" class=\"dataframe\">\n",
       "  <thead>\n",
       "    <tr style=\"text-align: right;\">\n",
       "      <th></th>\n",
       "      <th>title</th>\n",
       "      <th>link</th>\n",
       "      <th>content</th>\n",
       "      <th>dates</th>\n",
       "    </tr>\n",
       "  </thead>\n",
       "  <tbody>\n",
       "    <tr>\n",
       "      <th>0</th>\n",
       "      <td>토스뱅크  한국투자증권 발행어음 판매 나흘 만에 억원 돌파</td>\n",
       "      <td>https://n.news.naver.com/mnews/article/366/000...</td>\n",
       "      <td>토스뱅크가 내게 맞는 금융상품 찾기 서비스를 통해 소개한 한국투자증권...</td>\n",
       "      <td>2022.08.17.</td>\n",
       "    </tr>\n",
       "    <tr>\n",
       "      <th>1</th>\n",
       "      <td>비스토스 스팩소멸방식 월 상장 예정년 내 매출 억원 목표</td>\n",
       "      <td>https://n.news.naver.com/mnews/article/015/000...</td>\n",
       "      <td>기업설명회 개최를 앞두고 기업 설명 중인 이후정 비스토스 대표  사진이도희 기자회...</td>\n",
       "      <td>2022.08.18.</td>\n",
       "    </tr>\n",
       "    <tr>\n",
       "      <th>2</th>\n",
       "      <td>비스토스 월 코스닥 상장 글로벌 의료기기 선도 기업 목표</td>\n",
       "      <td>https://n.news.naver.com/mnews/article/417/000...</td>\n",
       "      <td>사진이미지투데이 생애 전 주기를 아우르는 생체신호 의료기기 전문기업 비스토스가 코스...</td>\n",
       "      <td>2022.08.19.</td>\n",
       "    </tr>\n",
       "    <tr>\n",
       "      <th>3</th>\n",
       "      <td>토스뱅크  한국투자증권 발행어음 판매 나흘 만에 억원 돌파</td>\n",
       "      <td>https://n.news.naver.com/mnews/article/366/000...</td>\n",
       "      <td>토스뱅크가 내게 맞는 금융상품 찾기 서비스를 통해 소개한 한국투자증권...</td>\n",
       "      <td>2022.08.17.</td>\n",
       "    </tr>\n",
       "    <tr>\n",
       "      <th>4</th>\n",
       "      <td>비스토스 스팩소멸방식 월 상장 예정년 내 매출 억원 목표</td>\n",
       "      <td>https://n.news.naver.com/mnews/article/015/000...</td>\n",
       "      <td>기업설명회 개최를 앞두고 기업 설명 중인 이후정 비스토스 대표  사진이도희 기자회...</td>\n",
       "      <td>2022.08.18.</td>\n",
       "    </tr>\n",
       "    <tr>\n",
       "      <th>...</th>\n",
       "      <td>...</td>\n",
       "      <td>...</td>\n",
       "      <td>...</td>\n",
       "      <td>...</td>\n",
       "    </tr>\n",
       "    <tr>\n",
       "      <th>1195</th>\n",
       "      <td>비스토스 스팩소멸방식 월 상장 예정년 내 매출 억원 목표</td>\n",
       "      <td>https://n.news.naver.com/mnews/article/015/000...</td>\n",
       "      <td>기업설명회 개최를 앞두고 기업 설명 중인 이후정 비스토스 대표  사진이도희 기자회...</td>\n",
       "      <td>2022.08.18.</td>\n",
       "    </tr>\n",
       "    <tr>\n",
       "      <th>1196</th>\n",
       "      <td>비스토스 월 코스닥 상장 글로벌 의료기기 선도 기업 목표</td>\n",
       "      <td>https://n.news.naver.com/mnews/article/417/000...</td>\n",
       "      <td>사진이미지투데이 생애 전 주기를 아우르는 생체신호 의료기기 전문기업 비스토스가 코스...</td>\n",
       "      <td>2022.08.19.</td>\n",
       "    </tr>\n",
       "    <tr>\n",
       "      <th>1197</th>\n",
       "      <td>토스뱅크  한국투자증권 발행어음 판매 나흘 만에 억원 돌파</td>\n",
       "      <td>https://n.news.naver.com/mnews/article/366/000...</td>\n",
       "      <td>토스뱅크가 내게 맞는 금융상품 찾기 서비스를 통해 소개한 한국투자증권...</td>\n",
       "      <td>2022.08.17.</td>\n",
       "    </tr>\n",
       "    <tr>\n",
       "      <th>1198</th>\n",
       "      <td>비스토스 스팩소멸방식 월 상장 예정년 내 매출 억원 목표</td>\n",
       "      <td>https://n.news.naver.com/mnews/article/015/000...</td>\n",
       "      <td>기업설명회 개최를 앞두고 기업 설명 중인 이후정 비스토스 대표  사진이도희 기자회...</td>\n",
       "      <td>2022.08.18.</td>\n",
       "    </tr>\n",
       "    <tr>\n",
       "      <th>1199</th>\n",
       "      <td>비스토스 월 코스닥 상장 글로벌 의료기기 선도 기업 목표</td>\n",
       "      <td>https://n.news.naver.com/mnews/article/417/000...</td>\n",
       "      <td>사진이미지투데이 생애 전 주기를 아우르는 생체신호 의료기기 전문기업 비스토스가 코스...</td>\n",
       "      <td>2022.08.19.</td>\n",
       "    </tr>\n",
       "  </tbody>\n",
       "</table>\n",
       "<p>1200 rows × 4 columns</p>\n",
       "</div>"
      ],
      "text/plain": [
       "                                 title  \\\n",
       "0     토스뱅크  한국투자증권 발행어음 판매 나흘 만에 억원 돌파   \n",
       "1      비스토스 스팩소멸방식 월 상장 예정년 내 매출 억원 목표   \n",
       "2      비스토스 월 코스닥 상장 글로벌 의료기기 선도 기업 목표   \n",
       "3     토스뱅크  한국투자증권 발행어음 판매 나흘 만에 억원 돌파   \n",
       "4      비스토스 스팩소멸방식 월 상장 예정년 내 매출 억원 목표   \n",
       "...                                ...   \n",
       "1195   비스토스 스팩소멸방식 월 상장 예정년 내 매출 억원 목표   \n",
       "1196   비스토스 월 코스닥 상장 글로벌 의료기기 선도 기업 목표   \n",
       "1197  토스뱅크  한국투자증권 발행어음 판매 나흘 만에 억원 돌파   \n",
       "1198   비스토스 스팩소멸방식 월 상장 예정년 내 매출 억원 목표   \n",
       "1199   비스토스 월 코스닥 상장 글로벌 의료기기 선도 기업 목표   \n",
       "\n",
       "                                                   link  \\\n",
       "0     https://n.news.naver.com/mnews/article/366/000...   \n",
       "1     https://n.news.naver.com/mnews/article/015/000...   \n",
       "2     https://n.news.naver.com/mnews/article/417/000...   \n",
       "3     https://n.news.naver.com/mnews/article/366/000...   \n",
       "4     https://n.news.naver.com/mnews/article/015/000...   \n",
       "...                                                 ...   \n",
       "1195  https://n.news.naver.com/mnews/article/015/000...   \n",
       "1196  https://n.news.naver.com/mnews/article/417/000...   \n",
       "1197  https://n.news.naver.com/mnews/article/366/000...   \n",
       "1198  https://n.news.naver.com/mnews/article/015/000...   \n",
       "1199  https://n.news.naver.com/mnews/article/417/000...   \n",
       "\n",
       "                                                content        dates  \n",
       "0             토스뱅크가 내게 맞는 금융상품 찾기 서비스를 통해 소개한 한국투자증권...  2022.08.17.  \n",
       "1      기업설명회 개최를 앞두고 기업 설명 중인 이후정 비스토스 대표  사진이도희 기자회...  2022.08.18.  \n",
       "2     사진이미지투데이 생애 전 주기를 아우르는 생체신호 의료기기 전문기업 비스토스가 코스...  2022.08.19.  \n",
       "3             토스뱅크가 내게 맞는 금융상품 찾기 서비스를 통해 소개한 한국투자증권...  2022.08.17.  \n",
       "4      기업설명회 개최를 앞두고 기업 설명 중인 이후정 비스토스 대표  사진이도희 기자회...  2022.08.18.  \n",
       "...                                                 ...          ...  \n",
       "1195   기업설명회 개최를 앞두고 기업 설명 중인 이후정 비스토스 대표  사진이도희 기자회...  2022.08.18.  \n",
       "1196  사진이미지투데이 생애 전 주기를 아우르는 생체신호 의료기기 전문기업 비스토스가 코스...  2022.08.19.  \n",
       "1197          토스뱅크가 내게 맞는 금융상품 찾기 서비스를 통해 소개한 한국투자증권...  2022.08.17.  \n",
       "1198   기업설명회 개최를 앞두고 기업 설명 중인 이후정 비스토스 대표  사진이도희 기자회...  2022.08.18.  \n",
       "1199  사진이미지투데이 생애 전 주기를 아우르는 생체신호 의료기기 전문기업 비스토스가 코스...  2022.08.19.  \n",
       "\n",
       "[1200 rows x 4 columns]"
      ]
     },
     "execution_count": 32,
     "metadata": {},
     "output_type": "execute_result"
    }
   ],
   "source": [
    "tmp"
   ]
  },
  {
   "cell_type": "code",
   "execution_count": 33,
   "id": "912719d9",
   "metadata": {
    "colab": {
     "base_uri": "https://localhost:8080/"
    },
    "executionInfo": {
     "elapsed": 3,
     "status": "ok",
     "timestamp": 1660994823173,
     "user": {
      "displayName": "윤혜영",
      "userId": "15534613729688136853"
     },
     "user_tz": -540
    },
    "id": "912719d9",
    "outputId": "c2eb515d-c94c-4330-f7d9-6cbff5fe972f"
   },
   "outputs": [
    {
     "data": {
      "text/plain": [
       "0"
      ]
     },
     "execution_count": 33,
     "metadata": {},
     "output_type": "execute_result"
    }
   ],
   "source": [
    "# 본문 널값 확인\n",
    "tmp.content.isnull().sum()"
   ]
  },
  {
   "cell_type": "code",
   "execution_count": 34,
   "id": "d6891067",
   "metadata": {
    "colab": {
     "base_uri": "https://localhost:8080/"
    },
    "executionInfo": {
     "elapsed": 3,
     "status": "ok",
     "timestamp": 1660994823174,
     "user": {
      "displayName": "윤혜영",
      "userId": "15534613729688136853"
     },
     "user_tz": -540
    },
    "id": "d6891067",
    "outputId": "2275a468-9647-4a93-da32-add2ffe4a55c"
   },
   "outputs": [
    {
     "name": "stdout",
     "output_type": "stream",
     "text": [
      "뉴스 기사 개수:  3\n"
     ]
    }
   ],
   "source": [
    "# 중복 기사 제거\n",
    "tmp.drop_duplicates(subset=['title'], inplace = True)\n",
    "print('뉴스 기사 개수: ', len(tmp))"
   ]
  },
  {
   "cell_type": "code",
   "execution_count": 35,
   "id": "e20a851e",
   "metadata": {
    "colab": {
     "base_uri": "https://localhost:8080/",
     "height": 358
    },
    "executionInfo": {
     "elapsed": 4,
     "status": "ok",
     "timestamp": 1660994823585,
     "user": {
      "displayName": "윤혜영",
      "userId": "15534613729688136853"
     },
     "user_tz": -540
    },
    "id": "e20a851e",
    "outputId": "785374ea-0b87-44c7-eba6-955e7d8053eb"
   },
   "outputs": [
    {
     "data": {
      "text/html": [
       "<div>\n",
       "<style scoped>\n",
       "    .dataframe tbody tr th:only-of-type {\n",
       "        vertical-align: middle;\n",
       "    }\n",
       "\n",
       "    .dataframe tbody tr th {\n",
       "        vertical-align: top;\n",
       "    }\n",
       "\n",
       "    .dataframe thead th {\n",
       "        text-align: right;\n",
       "    }\n",
       "</style>\n",
       "<table border=\"1\" class=\"dataframe\">\n",
       "  <thead>\n",
       "    <tr style=\"text-align: right;\">\n",
       "      <th></th>\n",
       "      <th>title</th>\n",
       "      <th>link</th>\n",
       "      <th>content</th>\n",
       "      <th>dates</th>\n",
       "    </tr>\n",
       "  </thead>\n",
       "  <tbody>\n",
       "    <tr>\n",
       "      <th>0</th>\n",
       "      <td>토스뱅크  한국투자증권 발행어음 판매 나흘 만에 억원 돌파</td>\n",
       "      <td>https://n.news.naver.com/mnews/article/366/000...</td>\n",
       "      <td>토스뱅크가 내게 맞는 금융상품 찾기 서비스를 통해 소개한 한국투자증권...</td>\n",
       "      <td>2022.08.17.</td>\n",
       "    </tr>\n",
       "    <tr>\n",
       "      <th>1</th>\n",
       "      <td>비스토스 스팩소멸방식 월 상장 예정년 내 매출 억원 목표</td>\n",
       "      <td>https://n.news.naver.com/mnews/article/015/000...</td>\n",
       "      <td>기업설명회 개최를 앞두고 기업 설명 중인 이후정 비스토스 대표  사진이도희 기자회...</td>\n",
       "      <td>2022.08.18.</td>\n",
       "    </tr>\n",
       "    <tr>\n",
       "      <th>2</th>\n",
       "      <td>비스토스 월 코스닥 상장 글로벌 의료기기 선도 기업 목표</td>\n",
       "      <td>https://n.news.naver.com/mnews/article/417/000...</td>\n",
       "      <td>사진이미지투데이 생애 전 주기를 아우르는 생체신호 의료기기 전문기업 비스토스가 코스...</td>\n",
       "      <td>2022.08.19.</td>\n",
       "    </tr>\n",
       "  </tbody>\n",
       "</table>\n",
       "</div>"
      ],
      "text/plain": [
       "                              title  \\\n",
       "0  토스뱅크  한국투자증권 발행어음 판매 나흘 만에 억원 돌파   \n",
       "1   비스토스 스팩소멸방식 월 상장 예정년 내 매출 억원 목표   \n",
       "2   비스토스 월 코스닥 상장 글로벌 의료기기 선도 기업 목표   \n",
       "\n",
       "                                                link  \\\n",
       "0  https://n.news.naver.com/mnews/article/366/000...   \n",
       "1  https://n.news.naver.com/mnews/article/015/000...   \n",
       "2  https://n.news.naver.com/mnews/article/417/000...   \n",
       "\n",
       "                                             content        dates  \n",
       "0          토스뱅크가 내게 맞는 금융상품 찾기 서비스를 통해 소개한 한국투자증권...  2022.08.17.  \n",
       "1   기업설명회 개최를 앞두고 기업 설명 중인 이후정 비스토스 대표  사진이도희 기자회...  2022.08.18.  \n",
       "2  사진이미지투데이 생애 전 주기를 아우르는 생체신호 의료기기 전문기업 비스토스가 코스...  2022.08.19.  "
      ]
     },
     "execution_count": 35,
     "metadata": {},
     "output_type": "execute_result"
    }
   ],
   "source": [
    "tmp"
   ]
  },
  {
   "cell_type": "markdown",
   "id": "b6471f23",
   "metadata": {
    "id": "b6471f23"
   },
   "source": [
    "## content 토큰화 - konlpy(한국어)\n"
   ]
  },
  {
   "cell_type": "code",
   "execution_count": null,
   "id": "VfGAiMPX-deA",
   "metadata": {
    "id": "VfGAiMPX-deA"
   },
   "outputs": [],
   "source": [
    "pip install konlpy"
   ]
  },
  {
   "cell_type": "code",
   "execution_count": 64,
   "id": "482c5ed8",
   "metadata": {
    "executionInfo": {
     "elapsed": 2,
     "status": "ok",
     "timestamp": 1660994829966,
     "user": {
      "displayName": "윤혜영",
      "userId": "15534613729688136853"
     },
     "user_tz": -540
    },
    "id": "482c5ed8"
   },
   "outputs": [],
   "source": [
    "from konlpy.tag import Okt\n",
    "t = Okt()\n",
    "\n",
    "# tmp.content = tmp.content.apply(lambda x : t.nouns(x))"
   ]
  },
  {
   "cell_type": "code",
   "execution_count": 65,
   "id": "2555e137",
   "metadata": {
    "executionInfo": {
     "elapsed": 2,
     "status": "ok",
     "timestamp": 1660994830382,
     "user": {
      "displayName": "윤혜영",
      "userId": "15534613729688136853"
     },
     "user_tz": -540
    },
    "id": "2555e137"
   },
   "outputs": [],
   "source": [
    "# 토큰화한 결과 확인 -> list(set())을 통해 중복 태그 삭제함\n",
    "# tmp.content = tmp.content.apply(lambda x : list(set(x)))"
   ]
  },
  {
   "cell_type": "code",
   "execution_count": 66,
   "id": "Z9fpqnIw-jxf",
   "metadata": {
    "executionInfo": {
     "elapsed": 1,
     "status": "ok",
     "timestamp": 1660994831069,
     "user": {
      "displayName": "윤혜영",
      "userId": "15534613729688136853"
     },
     "user_tz": -540
    },
    "id": "Z9fpqnIw-jxf"
   },
   "outputs": [],
   "source": [
    "# tmp['content']"
   ]
  },
  {
   "cell_type": "code",
   "execution_count": 92,
   "id": "Kx6PWsob-0Jg",
   "metadata": {
    "executionInfo": {
     "elapsed": 304,
     "status": "ok",
     "timestamp": 1660995423424,
     "user": {
      "displayName": "윤혜영",
      "userId": "15534613729688136853"
     },
     "user_tz": -540
    },
    "id": "Kx6PWsob-0Jg"
   },
   "outputs": [],
   "source": [
    "# 토큰화 및 토큰화 과정에서 불용어를 제거하는 함수\n",
    "def preprocessing(data):\n",
    "  text_data = []\n",
    "\n",
    "  for sentence in data:\n",
    "    temp_data = []\n",
    "    #- 토큰화\n",
    "    temp_data = t.nouns(sentence)\n",
    "    #- 불용어 제거\n",
    "    temp_data = [word for word in temp_data if not word in stopwords] \n",
    "    text_data.append(temp_data)\n",
    "\n",
    "  text_data = list(map(' '.join, text_data))\n",
    "\n",
    "  return text_data"
   ]
  },
  {
   "cell_type": "code",
   "execution_count": 90,
   "id": "EdCYzLmW_K9T",
   "metadata": {
    "executionInfo": {
     "elapsed": 2,
     "status": "ok",
     "timestamp": 1660995418881,
     "user": {
      "displayName": "윤혜영",
      "userId": "15534613729688136853"
     },
     "user_tz": -540
    },
    "id": "EdCYzLmW_K9T"
   },
   "outputs": [],
   "source": [
    "# 불용어 정의\n",
    "stopwords = ['에','는','은','을', ' 연', '의', '약', '득','일', '통', '연', '년', '수', '첫', '날', '스', \n",
    "             '용', '월', '뒤', '억', '뇌','뉴', '위', '대한', '를', '만대', '한편', '최근', '달', '간', '올해', \n",
    "             '주로', '중이', '통해', '바', '모두', '외', '사의', '이', '시스', '가장', '상적', '말', '원', '키스',\n",
    "             '뱅', '나크', '개월', '만', '정', '크게', '이후', '모니터', '각', '측은', '중', '지속', '각각', '명',\n",
    "             '과', '내년', '금', '초', '실', '해당', '이기', '개', '층', '며', '데', '총', '것', '풀', '임', '라며',\n",
    "             '그', '개최', '등', '인터', '회', '만원', '꼽았다', '호', '꼽', '내', '가지', '비스', '및', '로', '인',\n",
    "             '전', '필', '세', '업설', '과', '명', '중', '충']"
   ]
  },
  {
   "cell_type": "code",
   "execution_count": 94,
   "id": "egr5rTvd_RK5",
   "metadata": {
    "colab": {
     "base_uri": "https://localhost:8080/"
    },
    "executionInfo": {
     "elapsed": 762,
     "status": "ok",
     "timestamp": 1660995431793,
     "user": {
      "displayName": "윤혜영",
      "userId": "15534613729688136853"
     },
     "user_tz": -540
    },
    "id": "egr5rTvd_RK5",
    "outputId": "b9f61581-a816-4342-a645-3c865ab4378a"
   },
   "outputs": [
    {
     "name": "stdout",
     "output_type": "stream",
     "text": [
      "토스 뱅크 금융 상품 찾기 서비스 소개 한국 투자 증권 발행 어음 판매 금액 억원 돌파 한국 투자 증권 발행 어음 토스 뱅크 금융 상품 찾기 서비스 출시 처음 소개 투자 상품 토스 뱅크 가입 특판용 상품 최대 이자 제공 토스 뱅크 제공 특판 한도 억원 출시 소진 현재 소개 중인 발행 어음 수준 이자 제공 한도 개인 가입 본인 투자 계획 거치 기간 설정 한국 투자 증권 발행 어음 판매 금액 억원 돌파 시점 영업일 기준 만이 출시 억원 한국 투자 증권 계좌 판매 일차 판매 금액 억원 평균 판매 금액 억원 토스 뱅크 한국 투자 증권 신규 계좌 개설 고객 발행 어음 가입자 연령 대별 비중 대가 비중 가입자 평균 연령 세로 금융 주도 관심 한국 투자 증권 설명 토스 뱅크 관계자 금리 상승 기 투자 상품 확정 금리 상품 관심 토스 뱅크 혁신 성과 자산 관리 선도 대형 증권사 전문성 시너지 경쟁력 상품 소개 인기 비결\n"
     ]
    }
   ],
   "source": [
    "text_data = preprocessing(tmp['content'])\n",
    "print(text_data[0])"
   ]
  },
  {
   "cell_type": "code",
   "execution_count": 99,
   "id": "KVxY0qrUC1KP",
   "metadata": {
    "executionInfo": {
     "elapsed": 314,
     "status": "ok",
     "timestamp": 1660995508549,
     "user": {
      "displayName": "윤혜영",
      "userId": "15534613729688136853"
     },
     "user_tz": -540
    },
    "id": "KVxY0qrUC1KP"
   },
   "outputs": [],
   "source": [
    "tmp['tags'] = text_data"
   ]
  },
  {
   "cell_type": "code",
   "execution_count": 100,
   "id": "ukTtijb_DClV",
   "metadata": {
    "executionInfo": {
     "elapsed": 301,
     "status": "ok",
     "timestamp": 1660995528233,
     "user": {
      "displayName": "윤혜영",
      "userId": "15534613729688136853"
     },
     "user_tz": -540
    },
    "id": "ukTtijb_DClV"
   },
   "outputs": [],
   "source": [
    "tmp.tags = tmp.tags.apply(lambda x : x.split(' '))"
   ]
  },
  {
   "cell_type": "code",
   "execution_count": 101,
   "id": "yqPXlrfHC4gG",
   "metadata": {
    "colab": {
     "base_uri": "https://localhost:8080/",
     "height": 497
    },
    "executionInfo": {
     "elapsed": 4,
     "status": "ok",
     "timestamp": 1660995529545,
     "user": {
      "displayName": "윤혜영",
      "userId": "15534613729688136853"
     },
     "user_tz": -540
    },
    "id": "yqPXlrfHC4gG",
    "outputId": "56ce7a0e-5fb9-4bb0-a48d-608d889e69be"
   },
   "outputs": [
    {
     "data": {
      "text/html": [
       "\n",
       "  <div id=\"df-6fc89b8e-d11a-4c05-ab8e-d91e48dfa0aa\">\n",
       "    <div class=\"colab-df-container\">\n",
       "      <div>\n",
       "<style scoped>\n",
       "    .dataframe tbody tr th:only-of-type {\n",
       "        vertical-align: middle;\n",
       "    }\n",
       "\n",
       "    .dataframe tbody tr th {\n",
       "        vertical-align: top;\n",
       "    }\n",
       "\n",
       "    .dataframe thead th {\n",
       "        text-align: right;\n",
       "    }\n",
       "</style>\n",
       "<table border=\"1\" class=\"dataframe\">\n",
       "  <thead>\n",
       "    <tr style=\"text-align: right;\">\n",
       "      <th></th>\n",
       "      <th>title</th>\n",
       "      <th>link</th>\n",
       "      <th>content</th>\n",
       "      <th>dates</th>\n",
       "      <th>tags</th>\n",
       "    </tr>\n",
       "  </thead>\n",
       "  <tbody>\n",
       "    <tr>\n",
       "      <th>0</th>\n",
       "      <td>토스뱅크  한국투자증권 발행어음 판매 나흘 만에 억원 돌파</td>\n",
       "      <td>https://n.news.naver.com/mnews/article/366/000...</td>\n",
       "      <td>토스뱅크가 내게 맞는 금융상품 찾기 서비스를 통해 소개한 한국투자증권...</td>\n",
       "      <td>2022.08.17.</td>\n",
       "      <td>[토스, 뱅크, 금융, 상품, 찾기, 서비스, 소개, 한국, 투자, 증권, 발행, ...</td>\n",
       "    </tr>\n",
       "    <tr>\n",
       "      <th>1</th>\n",
       "      <td>비스토스 스팩소멸방식 월 상장 예정년 내 매출 억원 목표</td>\n",
       "      <td>https://n.news.naver.com/mnews/article/015/000...</td>\n",
       "      <td>기업설명회 개최를 앞두고 기업 설명 중인 이후정 비스토스 대표  사진이도희 기자회...</td>\n",
       "      <td>2022.08.18.</td>\n",
       "      <td>[기업, 설명, 기업, 설명, 중인, 토스, 대표, 사진, 이도희, 자회사, 기존,...</td>\n",
       "    </tr>\n",
       "    <tr>\n",
       "      <th>2</th>\n",
       "      <td>비스토스 월 코스닥 상장 글로벌 의료기기 선도 기업 목표</td>\n",
       "      <td>https://n.news.naver.com/mnews/article/417/000...</td>\n",
       "      <td>사진이미지투데이 생애 전 주기를 아우르는 생체신호 의료기기 전문기업 비스토스가 코스...</td>\n",
       "      <td>2022.08.19.</td>\n",
       "      <td>[사진, 이미지, 투데이, 생애, 주기, 생체, 신호, 의료기기, 전문, 기업, 비...</td>\n",
       "    </tr>\n",
       "    <tr>\n",
       "      <th>3</th>\n",
       "      <td>토스뱅크 한투증권 발행어음 특판 나흘만에 조기 완판</td>\n",
       "      <td>https://n.news.naver.com/mnews/article/011/000...</td>\n",
       "      <td>사진 제공토스뱅크서울경제 토스뱅크는 한국투자증권의 발행어음 판매금액이 억 원을 돌파...</td>\n",
       "      <td>2022.08.17.</td>\n",
       "      <td>[사진, 제공, 토스, 뱅크, 서울, 경제, 토스, 뱅크, 한국, 투자, 증권, 발...</td>\n",
       "    </tr>\n",
       "  </tbody>\n",
       "</table>\n",
       "</div>\n",
       "      <button class=\"colab-df-convert\" onclick=\"convertToInteractive('df-6fc89b8e-d11a-4c05-ab8e-d91e48dfa0aa')\"\n",
       "              title=\"Convert this dataframe to an interactive table.\"\n",
       "              style=\"display:none;\">\n",
       "        \n",
       "  <svg xmlns=\"http://www.w3.org/2000/svg\" height=\"24px\"viewBox=\"0 0 24 24\"\n",
       "       width=\"24px\">\n",
       "    <path d=\"M0 0h24v24H0V0z\" fill=\"none\"/>\n",
       "    <path d=\"M18.56 5.44l.94 2.06.94-2.06 2.06-.94-2.06-.94-.94-2.06-.94 2.06-2.06.94zm-11 1L8.5 8.5l.94-2.06 2.06-.94-2.06-.94L8.5 2.5l-.94 2.06-2.06.94zm10 10l.94 2.06.94-2.06 2.06-.94-2.06-.94-.94-2.06-.94 2.06-2.06.94z\"/><path d=\"M17.41 7.96l-1.37-1.37c-.4-.4-.92-.59-1.43-.59-.52 0-1.04.2-1.43.59L10.3 9.45l-7.72 7.72c-.78.78-.78 2.05 0 2.83L4 21.41c.39.39.9.59 1.41.59.51 0 1.02-.2 1.41-.59l7.78-7.78 2.81-2.81c.8-.78.8-2.07 0-2.86zM5.41 20L4 18.59l7.72-7.72 1.47 1.35L5.41 20z\"/>\n",
       "  </svg>\n",
       "      </button>\n",
       "      \n",
       "  <style>\n",
       "    .colab-df-container {\n",
       "      display:flex;\n",
       "      flex-wrap:wrap;\n",
       "      gap: 12px;\n",
       "    }\n",
       "\n",
       "    .colab-df-convert {\n",
       "      background-color: #E8F0FE;\n",
       "      border: none;\n",
       "      border-radius: 50%;\n",
       "      cursor: pointer;\n",
       "      display: none;\n",
       "      fill: #1967D2;\n",
       "      height: 32px;\n",
       "      padding: 0 0 0 0;\n",
       "      width: 32px;\n",
       "    }\n",
       "\n",
       "    .colab-df-convert:hover {\n",
       "      background-color: #E2EBFA;\n",
       "      box-shadow: 0px 1px 2px rgba(60, 64, 67, 0.3), 0px 1px 3px 1px rgba(60, 64, 67, 0.15);\n",
       "      fill: #174EA6;\n",
       "    }\n",
       "\n",
       "    [theme=dark] .colab-df-convert {\n",
       "      background-color: #3B4455;\n",
       "      fill: #D2E3FC;\n",
       "    }\n",
       "\n",
       "    [theme=dark] .colab-df-convert:hover {\n",
       "      background-color: #434B5C;\n",
       "      box-shadow: 0px 1px 3px 1px rgba(0, 0, 0, 0.15);\n",
       "      filter: drop-shadow(0px 1px 2px rgba(0, 0, 0, 0.3));\n",
       "      fill: #FFFFFF;\n",
       "    }\n",
       "  </style>\n",
       "\n",
       "      <script>\n",
       "        const buttonEl =\n",
       "          document.querySelector('#df-6fc89b8e-d11a-4c05-ab8e-d91e48dfa0aa button.colab-df-convert');\n",
       "        buttonEl.style.display =\n",
       "          google.colab.kernel.accessAllowed ? 'block' : 'none';\n",
       "\n",
       "        async function convertToInteractive(key) {\n",
       "          const element = document.querySelector('#df-6fc89b8e-d11a-4c05-ab8e-d91e48dfa0aa');\n",
       "          const dataTable =\n",
       "            await google.colab.kernel.invokeFunction('convertToInteractive',\n",
       "                                                     [key], {});\n",
       "          if (!dataTable) return;\n",
       "\n",
       "          const docLinkHtml = 'Like what you see? Visit the ' +\n",
       "            '<a target=\"_blank\" href=https://colab.research.google.com/notebooks/data_table.ipynb>data table notebook</a>'\n",
       "            + ' to learn more about interactive tables.';\n",
       "          element.innerHTML = '';\n",
       "          dataTable['output_type'] = 'display_data';\n",
       "          await google.colab.output.renderOutput(dataTable, element);\n",
       "          const docLink = document.createElement('div');\n",
       "          docLink.innerHTML = docLinkHtml;\n",
       "          element.appendChild(docLink);\n",
       "        }\n",
       "      </script>\n",
       "    </div>\n",
       "  </div>\n",
       "  "
      ],
      "text/plain": [
       "                              title  \\\n",
       "0  토스뱅크  한국투자증권 발행어음 판매 나흘 만에 억원 돌파   \n",
       "1   비스토스 스팩소멸방식 월 상장 예정년 내 매출 억원 목표   \n",
       "2   비스토스 월 코스닥 상장 글로벌 의료기기 선도 기업 목표   \n",
       "3      토스뱅크 한투증권 발행어음 특판 나흘만에 조기 완판   \n",
       "\n",
       "                                                link  \\\n",
       "0  https://n.news.naver.com/mnews/article/366/000...   \n",
       "1  https://n.news.naver.com/mnews/article/015/000...   \n",
       "2  https://n.news.naver.com/mnews/article/417/000...   \n",
       "3  https://n.news.naver.com/mnews/article/011/000...   \n",
       "\n",
       "                                             content        dates  \\\n",
       "0          토스뱅크가 내게 맞는 금융상품 찾기 서비스를 통해 소개한 한국투자증권...  2022.08.17.   \n",
       "1   기업설명회 개최를 앞두고 기업 설명 중인 이후정 비스토스 대표  사진이도희 기자회...  2022.08.18.   \n",
       "2  사진이미지투데이 생애 전 주기를 아우르는 생체신호 의료기기 전문기업 비스토스가 코스...  2022.08.19.   \n",
       "3  사진 제공토스뱅크서울경제 토스뱅크는 한국투자증권의 발행어음 판매금액이 억 원을 돌파...  2022.08.17.   \n",
       "\n",
       "                                                tags  \n",
       "0  [토스, 뱅크, 금융, 상품, 찾기, 서비스, 소개, 한국, 투자, 증권, 발행, ...  \n",
       "1  [기업, 설명, 기업, 설명, 중인, 토스, 대표, 사진, 이도희, 자회사, 기존,...  \n",
       "2  [사진, 이미지, 투데이, 생애, 주기, 생체, 신호, 의료기기, 전문, 기업, 비...  \n",
       "3  [사진, 제공, 토스, 뱅크, 서울, 경제, 토스, 뱅크, 한국, 투자, 증권, 발...  "
      ]
     },
     "execution_count": 101,
     "metadata": {},
     "output_type": "execute_result"
    }
   ],
   "source": [
    "tmp"
   ]
  },
  {
   "cell_type": "code",
   "execution_count": null,
   "id": "JQTlB-lsC5sb",
   "metadata": {
    "id": "JQTlB-lsC5sb"
   },
   "outputs": [],
   "source": []
  }
 ],
 "metadata": {
  "colab": {
   "collapsed_sections": [],
   "name": "네이버기사 전처리.ipynb",
   "provenance": []
  },
  "kernelspec": {
   "display_name": "Python 3 (ipykernel)",
   "language": "python",
   "name": "python3"
  },
  "language_info": {
   "codemirror_mode": {
    "name": "ipython",
    "version": 3
   },
   "file_extension": ".py",
   "mimetype": "text/x-python",
   "name": "python",
   "nbconvert_exporter": "python",
   "pygments_lexer": "ipython3",
   "version": "3.7.6"
  }
 },
 "nbformat": 4,
 "nbformat_minor": 5
}
