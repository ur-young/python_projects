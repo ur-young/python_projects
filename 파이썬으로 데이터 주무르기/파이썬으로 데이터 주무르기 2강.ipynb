{
 "cells": [
  {
   "cell_type": "markdown",
   "id": "8759b304",
   "metadata": {},
   "source": [
    "원본 데이터 출처: https://github.com/PinkWink/DataScience.git"
   ]
  },
  {
   "cell_type": "markdown",
   "id": "85f1f21b",
   "metadata": {},
   "source": [
    "# 파이썬으로 데이터 주무르기 - 2강"
   ]
  },
  {
   "cell_type": "markdown",
   "id": "8c7e90f6",
   "metadata": {},
   "source": [
    "##### <span style=\"color:red\"> 2-1. 데이터 획득하기</span>\n",
    "* 공공데이터포럼"
   ]
  },
  {
   "cell_type": "markdown",
   "id": "4e99251c",
   "metadata": {},
   "source": [
    "##### <span style=\"color:red\"> 2-2. pandas를 이용하여 데이터 정리하기</span>"
   ]
  },
  {
   "cell_type": "code",
   "execution_count": 1,
   "id": "c34db3fd",
   "metadata": {},
   "outputs": [],
   "source": [
    "import numpy as np\n",
    "import pandas as pd"
   ]
  },
  {
   "cell_type": "code",
   "execution_count": 2,
   "id": "cb1cb26f",
   "metadata": {},
   "outputs": [
    {
     "data": {
      "text/html": [
       "<div>\n",
       "<style scoped>\n",
       "    .dataframe tbody tr th:only-of-type {\n",
       "        vertical-align: middle;\n",
       "    }\n",
       "\n",
       "    .dataframe tbody tr th {\n",
       "        vertical-align: top;\n",
       "    }\n",
       "\n",
       "    .dataframe thead th {\n",
       "        text-align: right;\n",
       "    }\n",
       "</style>\n",
       "<table border=\"1\" class=\"dataframe\">\n",
       "  <thead>\n",
       "    <tr style=\"text-align: right;\">\n",
       "      <th></th>\n",
       "      <th>관서명</th>\n",
       "      <th>살인 발생</th>\n",
       "      <th>살인 검거</th>\n",
       "      <th>강도 발생</th>\n",
       "      <th>강도 검거</th>\n",
       "      <th>강간 발생</th>\n",
       "      <th>강간 검거</th>\n",
       "      <th>절도 발생</th>\n",
       "      <th>절도 검거</th>\n",
       "      <th>폭력 발생</th>\n",
       "      <th>폭력 검거</th>\n",
       "    </tr>\n",
       "  </thead>\n",
       "  <tbody>\n",
       "    <tr>\n",
       "      <th>0</th>\n",
       "      <td>중부서</td>\n",
       "      <td>2</td>\n",
       "      <td>2</td>\n",
       "      <td>3</td>\n",
       "      <td>2</td>\n",
       "      <td>105</td>\n",
       "      <td>65</td>\n",
       "      <td>1395</td>\n",
       "      <td>477</td>\n",
       "      <td>1355</td>\n",
       "      <td>1170</td>\n",
       "    </tr>\n",
       "    <tr>\n",
       "      <th>1</th>\n",
       "      <td>종로서</td>\n",
       "      <td>3</td>\n",
       "      <td>3</td>\n",
       "      <td>6</td>\n",
       "      <td>5</td>\n",
       "      <td>115</td>\n",
       "      <td>98</td>\n",
       "      <td>1070</td>\n",
       "      <td>413</td>\n",
       "      <td>1278</td>\n",
       "      <td>1070</td>\n",
       "    </tr>\n",
       "    <tr>\n",
       "      <th>2</th>\n",
       "      <td>남대문서</td>\n",
       "      <td>1</td>\n",
       "      <td>0</td>\n",
       "      <td>6</td>\n",
       "      <td>4</td>\n",
       "      <td>65</td>\n",
       "      <td>46</td>\n",
       "      <td>1153</td>\n",
       "      <td>382</td>\n",
       "      <td>869</td>\n",
       "      <td>794</td>\n",
       "    </tr>\n",
       "    <tr>\n",
       "      <th>3</th>\n",
       "      <td>서대문서</td>\n",
       "      <td>2</td>\n",
       "      <td>2</td>\n",
       "      <td>5</td>\n",
       "      <td>4</td>\n",
       "      <td>154</td>\n",
       "      <td>124</td>\n",
       "      <td>1812</td>\n",
       "      <td>738</td>\n",
       "      <td>2056</td>\n",
       "      <td>1711</td>\n",
       "    </tr>\n",
       "    <tr>\n",
       "      <th>4</th>\n",
       "      <td>혜화서</td>\n",
       "      <td>3</td>\n",
       "      <td>2</td>\n",
       "      <td>5</td>\n",
       "      <td>4</td>\n",
       "      <td>96</td>\n",
       "      <td>63</td>\n",
       "      <td>1114</td>\n",
       "      <td>424</td>\n",
       "      <td>1015</td>\n",
       "      <td>861</td>\n",
       "    </tr>\n",
       "  </tbody>\n",
       "</table>\n",
       "</div>"
      ],
      "text/plain": [
       "    관서명  살인 발생  살인 검거  강도 발생  강도 검거  강간 발생  강간 검거  절도 발생  절도 검거  폭력 발생  폭력 검거\n",
       "0   중부서      2      2      3      2    105     65   1395    477   1355   1170\n",
       "1   종로서      3      3      6      5    115     98   1070    413   1278   1070\n",
       "2  남대문서      1      0      6      4     65     46   1153    382    869    794\n",
       "3  서대문서      2      2      5      4    154    124   1812    738   2056   1711\n",
       "4   혜화서      3      2      5      4     96     63   1114    424   1015    861"
      ]
     },
     "execution_count": 2,
     "metadata": {},
     "output_type": "execute_result"
    }
   ],
   "source": [
    "# 원래 천단위를 콤마(,)로 구분하여 표시한 데이터\n",
    "# thosands 옵션을 이용하여 데이터를 불러올 때 판다스에게 알려줌\n",
    "crime_anal_police = pd.read_csv('data/02. crime_in_Seoul.csv', thousands = ',',\n",
    "                                encoding='euc-kr')\n",
    "crime_anal_police.head()"
   ]
  },
  {
   "cell_type": "markdown",
   "id": "0ff20600",
   "metadata": {},
   "source": [
    "##### <span style=\"color:red\"> 2-3. 지도 정보를 얻을 수 있는 Google Maps</span>"
   ]
  },
  {
   "cell_type": "markdown",
   "id": "147f99b3",
   "metadata": {},
   "source": [
    "##### <span style=\"color:red\"> 2-4. Google Maps를 이용해서 주소와 위도, 경도 정보 얻기</span>"
   ]
  },
  {
   "cell_type": "code",
   "execution_count": 3,
   "id": "4855b5dd",
   "metadata": {},
   "outputs": [],
   "source": [
    "import googlemaps"
   ]
  },
  {
   "cell_type": "code",
   "execution_count": 4,
   "id": "0c021452",
   "metadata": {},
   "outputs": [],
   "source": [
    "gmaps_key = '비밀이에요'\n",
    "gmaps = googlemaps.Client(key=gmaps_key)"
   ]
  },
  {
   "cell_type": "code",
   "execution_count": 5,
   "id": "a156e169",
   "metadata": {},
   "outputs": [
    {
     "data": {
      "text/plain": [
       "{'address_components': [{'long_name': '２７',\n",
       "   'short_name': '２７',\n",
       "   'types': ['premise']},\n",
       "  {'long_name': '수표로',\n",
       "   'short_name': '수표로',\n",
       "   'types': ['political', 'sublocality', 'sublocality_level_4']},\n",
       "  {'long_name': '중구',\n",
       "   'short_name': '중구',\n",
       "   'types': ['political', 'sublocality', 'sublocality_level_1']},\n",
       "  {'long_name': '서울특별시',\n",
       "   'short_name': '서울특별시',\n",
       "   'types': ['administrative_area_level_1', 'political']},\n",
       "  {'long_name': '대한민국', 'short_name': 'KR', 'types': ['country', 'political']},\n",
       "  {'long_name': '100-032', 'short_name': '100-032', 'types': ['postal_code']}],\n",
       " 'formatted_address': '대한민국 서울특별시 중구 수표로 27',\n",
       " 'geometry': {'location': {'lat': 37.56361709999999, 'lng': 126.9896517},\n",
       "  'location_type': 'ROOFTOP',\n",
       "  'viewport': {'northeast': {'lat': 37.5649660802915,\n",
       "    'lng': 126.9910006802915},\n",
       "   'southwest': {'lat': 37.5622681197085, 'lng': 126.9883027197085}}},\n",
       " 'partial_match': True,\n",
       " 'place_id': 'ChIJc-9q5uSifDURLhQmr5wkXmc',\n",
       " 'plus_code': {'compound_code': 'HX7Q+CV 대한민국 서울특별시',\n",
       "  'global_code': '8Q98HX7Q+CV'},\n",
       " 'types': ['establishment', 'point_of_interest', 'police']}"
      ]
     },
     "execution_count": 5,
     "metadata": {},
     "output_type": "execute_result"
    }
   ],
   "source": [
    "gmaps.geocode('서울중부경찰서', language='ko')[0]"
   ]
  },
  {
   "cell_type": "code",
   "execution_count": 6,
   "id": "876eb4cf",
   "metadata": {},
   "outputs": [
    {
     "data": {
      "text/plain": [
       "['서울중부경찰서',\n",
       " '서울종로경찰서',\n",
       " '서울남대문경찰서',\n",
       " '서울서대문경찰서',\n",
       " '서울혜화경찰서',\n",
       " '서울용산경찰서',\n",
       " '서울성북경찰서',\n",
       " '서울동대문경찰서',\n",
       " '서울마포경찰서',\n",
       " '서울영등포경찰서',\n",
       " '서울성동경찰서',\n",
       " '서울동작경찰서',\n",
       " '서울광진경찰서',\n",
       " '서울서부경찰서',\n",
       " '서울강북경찰서',\n",
       " '서울금천경찰서',\n",
       " '서울중랑경찰서',\n",
       " '서울강남경찰서',\n",
       " '서울관악경찰서',\n",
       " '서울강서경찰서',\n",
       " '서울강동경찰서',\n",
       " '서울종암경찰서',\n",
       " '서울구로경찰서',\n",
       " '서울서초경찰서',\n",
       " '서울양천경찰서',\n",
       " '서울송파경찰서',\n",
       " '서울노원경찰서',\n",
       " '서울방배경찰서',\n",
       " '서울은평경찰서',\n",
       " '서울도봉경찰서',\n",
       " '서울수서경찰서']"
      ]
     },
     "execution_count": 6,
     "metadata": {},
     "output_type": "execute_result"
    }
   ],
   "source": [
    "# 구글맵 검색을 위해 서울 XX 경찰서 형식으로 변경\n",
    "station_name = []\n",
    "for i in crime_anal_police['관서명']:\n",
    "    station_name.append('서울'+str(i)[:-1]+'경찰서')\n",
    "station_name"
   ]
  },
  {
   "cell_type": "code",
   "execution_count": 7,
   "id": "46b2dc79",
   "metadata": {},
   "outputs": [
    {
     "name": "stdout",
     "output_type": "stream",
     "text": [
      "서울중부경찰서->대한민국 서울특별시 중구 수표로 27\n",
      "서울종로경찰서->대한민국 서울특별시 종로구 율곡로 46\n",
      "서울남대문경찰서->대한민국 서울특별시 중구 한강대로 410\n",
      "서울서대문경찰서->대한민국 서울특별시 서대문구 통일로 113\n",
      "서울혜화경찰서->대한민국 서울특별시 종로구 창경궁로 112-16\n",
      "서울용산경찰서->대한민국 서울특별시 용산구 백범로 329\n",
      "서울성북경찰서->대한민국 서울특별시 성북구 삼선동 보문로 170\n",
      "서울동대문경찰서->대한민국 서울특별시 동대문구 약령시로21길 29\n",
      "서울마포경찰서->대한민국 서울특별시 마포구 마포대로 183\n",
      "서울영등포경찰서->대한민국 서울특별시 영등포구 국회대로 608\n",
      "서울성동경찰서->대한민국 서울특별시 성동구 행당동 왕십리광장로 9\n",
      "서울동작경찰서->대한민국 서울특별시 동작구 노량진로 148\n",
      "서울광진경찰서->대한민국 서울특별시 광진구 구의동 자양로 167\n",
      "서울서부경찰서->대한민국 서울특별시 은평구 녹번동 177-15\n",
      "서울강북경찰서->대한민국 서울특별시 강북구 오패산로 406\n",
      "서울금천경찰서->대한민국 서울특별시 금천구 시흥대로73길 50\n",
      "서울중랑경찰서->대한민국 서울특별시 중랑구 묵2동 249-2\n",
      "서울강남경찰서->대한민국 서울특별시 강남구 테헤란로114길 11\n",
      "서울관악경찰서->대한민국 서울특별시 관악구 관악로5길 33\n",
      "서울강서경찰서->대한민국 서울특별시 강서구 화곡6동 980-27\n",
      "서울강동경찰서->대한민국 서울특별시 강동구 성내로 57\n",
      "서울종암경찰서->대한민국 서울특별시 성북구 화랑로7길 32\n",
      "서울구로경찰서->대한민국 서울특별시 구로구 가마산로 235\n",
      "서울서초경찰서->대한민국 서울특별시 서초구 서초3동 반포대로 179\n",
      "서울양천경찰서->대한민국 서울특별시 양천구 목동동로 99\n",
      "서울송파경찰서->대한민국 서울특별시 송파구 중대로 221\n",
      "서울노원경찰서->대한민국 서울특별시 노원구 노원로 283\n",
      "서울방배경찰서->대한민국 서울특별시 서초구 동작대로 204\n",
      "서울은평경찰서->대한민국 서울특별시 은평구 연서로 365\n",
      "서울도봉경찰서->대한민국 서울특별시 도봉구 노해로 403\n",
      "서울수서경찰서->대한민국 서울특별시 강남구 개포로 617\n"
     ]
    }
   ],
   "source": [
    "station_address = []\n",
    "station_lat = []\n",
    "station_lng = []\n",
    "\n",
    "# 구글 데이터에서 주소, 위도 및 경도 정보 불러오기\n",
    "for i in station_name:\n",
    "    tmp = gmaps.geocode(i, language='ko')\n",
    "    station_address.append(tmp[0].get('formatted_address'))\n",
    "                           \n",
    "    tmp_loc = tmp[0].get('geometry')\n",
    "    station_lat.append(tmp_loc['location']['lat'])\n",
    "    station_lng.append(tmp_loc['location']['lng'])\n",
    "    \n",
    "    print(i + '->' + tmp[0].get('formatted_address'))"
   ]
  },
  {
   "cell_type": "code",
   "execution_count": 8,
   "id": "7fefe209",
   "metadata": {},
   "outputs": [
    {
     "data": {
      "text/plain": [
       "['대한민국 서울특별시 중구 수표로 27',\n",
       " '대한민국 서울특별시 종로구 율곡로 46',\n",
       " '대한민국 서울특별시 중구 한강대로 410',\n",
       " '대한민국 서울특별시 서대문구 통일로 113',\n",
       " '대한민국 서울특별시 종로구 창경궁로 112-16',\n",
       " '대한민국 서울특별시 용산구 백범로 329',\n",
       " '대한민국 서울특별시 성북구 삼선동 보문로 170',\n",
       " '대한민국 서울특별시 동대문구 약령시로21길 29',\n",
       " '대한민국 서울특별시 마포구 마포대로 183',\n",
       " '대한민국 서울특별시 영등포구 국회대로 608',\n",
       " '대한민국 서울특별시 성동구 행당동 왕십리광장로 9',\n",
       " '대한민국 서울특별시 동작구 노량진로 148',\n",
       " '대한민국 서울특별시 광진구 구의동 자양로 167',\n",
       " '대한민국 서울특별시 은평구 녹번동 177-15',\n",
       " '대한민국 서울특별시 강북구 오패산로 406',\n",
       " '대한민국 서울특별시 금천구 시흥대로73길 50',\n",
       " '대한민국 서울특별시 중랑구 묵2동 249-2',\n",
       " '대한민국 서울특별시 강남구 테헤란로114길 11',\n",
       " '대한민국 서울특별시 관악구 관악로5길 33',\n",
       " '대한민국 서울특별시 강서구 화곡6동 980-27',\n",
       " '대한민국 서울특별시 강동구 성내로 57',\n",
       " '대한민국 서울특별시 성북구 화랑로7길 32',\n",
       " '대한민국 서울특별시 구로구 가마산로 235',\n",
       " '대한민국 서울특별시 서초구 서초3동 반포대로 179',\n",
       " '대한민국 서울특별시 양천구 목동동로 99',\n",
       " '대한민국 서울특별시 송파구 중대로 221',\n",
       " '대한민국 서울특별시 노원구 노원로 283',\n",
       " '대한민국 서울특별시 서초구 동작대로 204',\n",
       " '대한민국 서울특별시 은평구 연서로 365',\n",
       " '대한민국 서울특별시 도봉구 노해로 403',\n",
       " '대한민국 서울특별시 강남구 개포로 617']"
      ]
     },
     "execution_count": 8,
     "metadata": {},
     "output_type": "execute_result"
    }
   ],
   "source": [
    "station_address"
   ]
  },
  {
   "cell_type": "code",
   "execution_count": 9,
   "id": "e30e6c35",
   "metadata": {},
   "outputs": [
    {
     "data": {
      "text/plain": [
       "[37.56361709999999,\n",
       " 37.575548,\n",
       " 37.5547584,\n",
       " 37.5647439,\n",
       " 37.5719679,\n",
       " 37.5387099,\n",
       " 37.58977830000001,\n",
       " 37.58506149999999,\n",
       " 37.550814,\n",
       " 37.5260441,\n",
       " 37.5617303,\n",
       " 37.5130866,\n",
       " 37.542873,\n",
       " 37.6021405,\n",
       " 37.63730390000001,\n",
       " 37.4568722,\n",
       " 37.6056429,\n",
       " 37.5094352,\n",
       " 37.4743945,\n",
       " 37.551284,\n",
       " 37.528511,\n",
       " 37.6036426,\n",
       " 37.494931,\n",
       " 37.4956054,\n",
       " 37.5167711,\n",
       " 37.5016941,\n",
       " 37.6421389,\n",
       " 37.4945959,\n",
       " 37.6280204,\n",
       " 37.6533589,\n",
       " 37.49349]"
      ]
     },
     "execution_count": 9,
     "metadata": {},
     "output_type": "execute_result"
    }
   ],
   "source": [
    "station_lat"
   ]
  },
  {
   "cell_type": "code",
   "execution_count": 10,
   "id": "0ed78a81",
   "metadata": {},
   "outputs": [
    {
     "data": {
      "text/plain": [
       "[126.9896517,\n",
       " 126.9847471,\n",
       " 126.9734981,\n",
       " 126.9667705,\n",
       " 126.9989574,\n",
       " 126.9659183,\n",
       " 127.016589,\n",
       " 127.0457679,\n",
       " 126.954028,\n",
       " 126.9008091,\n",
       " 127.0364217,\n",
       " 126.9428498,\n",
       " 127.083821,\n",
       " 126.9213074,\n",
       " 127.0273399,\n",
       " 126.8970429,\n",
       " 127.0764866,\n",
       " 127.0669578,\n",
       " 126.9513489,\n",
       " 126.850038,\n",
       " 127.1268224,\n",
       " 127.0401328,\n",
       " 126.886731,\n",
       " 127.0052504,\n",
       " 126.8656996,\n",
       " 127.1272481,\n",
       " 127.0710473,\n",
       " 126.9831279,\n",
       " 126.9287899,\n",
       " 127.052682,\n",
       " 127.0772119]"
      ]
     },
     "execution_count": 10,
     "metadata": {},
     "output_type": "execute_result"
    }
   ],
   "source": [
    "station_lng"
   ]
  },
  {
   "cell_type": "code",
   "execution_count": 11,
   "id": "19f38e8a",
   "metadata": {},
   "outputs": [
    {
     "data": {
      "text/plain": [
       "'중구'"
      ]
     },
     "execution_count": 11,
     "metadata": {},
     "output_type": "execute_result"
    }
   ],
   "source": [
    "station_address[0].split()[2]"
   ]
  },
  {
   "cell_type": "code",
   "execution_count": 12,
   "id": "31a88527",
   "metadata": {
    "scrolled": true
   },
   "outputs": [
    {
     "data": {
      "text/html": [
       "<div>\n",
       "<style scoped>\n",
       "    .dataframe tbody tr th:only-of-type {\n",
       "        vertical-align: middle;\n",
       "    }\n",
       "\n",
       "    .dataframe tbody tr th {\n",
       "        vertical-align: top;\n",
       "    }\n",
       "\n",
       "    .dataframe thead th {\n",
       "        text-align: right;\n",
       "    }\n",
       "</style>\n",
       "<table border=\"1\" class=\"dataframe\">\n",
       "  <thead>\n",
       "    <tr style=\"text-align: right;\">\n",
       "      <th></th>\n",
       "      <th>관서명</th>\n",
       "      <th>살인 발생</th>\n",
       "      <th>살인 검거</th>\n",
       "      <th>강도 발생</th>\n",
       "      <th>강도 검거</th>\n",
       "      <th>강간 발생</th>\n",
       "      <th>강간 검거</th>\n",
       "      <th>절도 발생</th>\n",
       "      <th>절도 검거</th>\n",
       "      <th>폭력 발생</th>\n",
       "      <th>폭력 검거</th>\n",
       "      <th>구별</th>\n",
       "    </tr>\n",
       "  </thead>\n",
       "  <tbody>\n",
       "    <tr>\n",
       "      <th>0</th>\n",
       "      <td>중부서</td>\n",
       "      <td>2</td>\n",
       "      <td>2</td>\n",
       "      <td>3</td>\n",
       "      <td>2</td>\n",
       "      <td>105</td>\n",
       "      <td>65</td>\n",
       "      <td>1395</td>\n",
       "      <td>477</td>\n",
       "      <td>1355</td>\n",
       "      <td>1170</td>\n",
       "      <td>중구</td>\n",
       "    </tr>\n",
       "    <tr>\n",
       "      <th>1</th>\n",
       "      <td>종로서</td>\n",
       "      <td>3</td>\n",
       "      <td>3</td>\n",
       "      <td>6</td>\n",
       "      <td>5</td>\n",
       "      <td>115</td>\n",
       "      <td>98</td>\n",
       "      <td>1070</td>\n",
       "      <td>413</td>\n",
       "      <td>1278</td>\n",
       "      <td>1070</td>\n",
       "      <td>종로구</td>\n",
       "    </tr>\n",
       "    <tr>\n",
       "      <th>2</th>\n",
       "      <td>남대문서</td>\n",
       "      <td>1</td>\n",
       "      <td>0</td>\n",
       "      <td>6</td>\n",
       "      <td>4</td>\n",
       "      <td>65</td>\n",
       "      <td>46</td>\n",
       "      <td>1153</td>\n",
       "      <td>382</td>\n",
       "      <td>869</td>\n",
       "      <td>794</td>\n",
       "      <td>중구</td>\n",
       "    </tr>\n",
       "    <tr>\n",
       "      <th>3</th>\n",
       "      <td>서대문서</td>\n",
       "      <td>2</td>\n",
       "      <td>2</td>\n",
       "      <td>5</td>\n",
       "      <td>4</td>\n",
       "      <td>154</td>\n",
       "      <td>124</td>\n",
       "      <td>1812</td>\n",
       "      <td>738</td>\n",
       "      <td>2056</td>\n",
       "      <td>1711</td>\n",
       "      <td>서대문구</td>\n",
       "    </tr>\n",
       "    <tr>\n",
       "      <th>4</th>\n",
       "      <td>혜화서</td>\n",
       "      <td>3</td>\n",
       "      <td>2</td>\n",
       "      <td>5</td>\n",
       "      <td>4</td>\n",
       "      <td>96</td>\n",
       "      <td>63</td>\n",
       "      <td>1114</td>\n",
       "      <td>424</td>\n",
       "      <td>1015</td>\n",
       "      <td>861</td>\n",
       "      <td>종로구</td>\n",
       "    </tr>\n",
       "  </tbody>\n",
       "</table>\n",
       "</div>"
      ],
      "text/plain": [
       "    관서명  살인 발생  살인 검거  강도 발생  강도 검거  강간 발생  강간 검거  절도 발생  절도 검거  폭력 발생  폭력 검거  \\\n",
       "0   중부서      2      2      3      2    105     65   1395    477   1355   1170   \n",
       "1   종로서      3      3      6      5    115     98   1070    413   1278   1070   \n",
       "2  남대문서      1      0      6      4     65     46   1153    382    869    794   \n",
       "3  서대문서      2      2      5      4    154    124   1812    738   2056   1711   \n",
       "4   혜화서      3      2      5      4     96     63   1114    424   1015    861   \n",
       "\n",
       "     구별  \n",
       "0    중구  \n",
       "1   종로구  \n",
       "2    중구  \n",
       "3  서대문구  \n",
       "4   종로구  "
      ]
     },
     "execution_count": 12,
     "metadata": {},
     "output_type": "execute_result"
    }
   ],
   "source": [
    "# 구 네임 추출\n",
    "gu_name = []\n",
    "\n",
    "for i in station_address:\n",
    "    tmp = i.split()\n",
    "    \n",
    "    tmp_gu = [a for a in tmp if a[-1] == '구'][0]\n",
    "    gu_name.append(tmp_gu)\n",
    "# 새로운 열 추가\n",
    "crime_anal_police['구별'] = gu_name\n",
    "crime_anal_police.head()"
   ]
  },
  {
   "cell_type": "code",
   "execution_count": 14,
   "id": "fe5fbd1f",
   "metadata": {},
   "outputs": [
    {
     "data": {
      "text/html": [
       "<div>\n",
       "<style scoped>\n",
       "    .dataframe tbody tr th:only-of-type {\n",
       "        vertical-align: middle;\n",
       "    }\n",
       "\n",
       "    .dataframe tbody tr th {\n",
       "        vertical-align: top;\n",
       "    }\n",
       "\n",
       "    .dataframe thead th {\n",
       "        text-align: right;\n",
       "    }\n",
       "</style>\n",
       "<table border=\"1\" class=\"dataframe\">\n",
       "  <thead>\n",
       "    <tr style=\"text-align: right;\">\n",
       "      <th></th>\n",
       "      <th>관서명</th>\n",
       "      <th>살인 발생</th>\n",
       "      <th>살인 검거</th>\n",
       "      <th>강도 발생</th>\n",
       "      <th>강도 검거</th>\n",
       "      <th>강간 발생</th>\n",
       "      <th>강간 검거</th>\n",
       "      <th>절도 발생</th>\n",
       "      <th>절도 검거</th>\n",
       "      <th>폭력 발생</th>\n",
       "      <th>폭력 검거</th>\n",
       "      <th>구별</th>\n",
       "    </tr>\n",
       "  </thead>\n",
       "  <tbody>\n",
       "    <tr>\n",
       "      <th>15</th>\n",
       "      <td>금천서</td>\n",
       "      <td>3</td>\n",
       "      <td>4</td>\n",
       "      <td>6</td>\n",
       "      <td>6</td>\n",
       "      <td>151</td>\n",
       "      <td>122</td>\n",
       "      <td>1567</td>\n",
       "      <td>888</td>\n",
       "      <td>2054</td>\n",
       "      <td>1776</td>\n",
       "      <td>금천구</td>\n",
       "    </tr>\n",
       "  </tbody>\n",
       "</table>\n",
       "</div>"
      ],
      "text/plain": [
       "    관서명  살인 발생  살인 검거  강도 발생  강도 검거  강간 발생  강간 검거  절도 발생  절도 검거  폭력 발생  폭력 검거  \\\n",
       "15  금천서      3      4      6      6    151    122   1567    888   2054   1776   \n",
       "\n",
       "     구별  \n",
       "15  금천구  "
      ]
     },
     "execution_count": 14,
     "metadata": {},
     "output_type": "execute_result"
    }
   ],
   "source": [
    "# 금천서 찾아보기 - 2018년 기준으로 금천구로 이전해서 예외처리 할 필요 없음\n",
    "crime_anal_police[crime_anal_police['관서명']=='금천서']"
   ]
  },
  {
   "cell_type": "code",
   "execution_count": 15,
   "id": "bbcb38ef",
   "metadata": {},
   "outputs": [],
   "source": [
    "# csv 파일로 지금까지 정리한 데이터 저장\n",
    "crime_anal_police.to_csv('data/02. crime_in_Seoul_include_gu_name.csv', sep=',', encoding = 'utf-8')"
   ]
  },
  {
   "cell_type": "code",
   "execution_count": 16,
   "id": "dc2e096e",
   "metadata": {},
   "outputs": [
    {
     "data": {
      "text/html": [
       "<div>\n",
       "<style scoped>\n",
       "    .dataframe tbody tr th:only-of-type {\n",
       "        vertical-align: middle;\n",
       "    }\n",
       "\n",
       "    .dataframe tbody tr th {\n",
       "        vertical-align: top;\n",
       "    }\n",
       "\n",
       "    .dataframe thead th {\n",
       "        text-align: right;\n",
       "    }\n",
       "</style>\n",
       "<table border=\"1\" class=\"dataframe\">\n",
       "  <thead>\n",
       "    <tr style=\"text-align: right;\">\n",
       "      <th></th>\n",
       "      <th>관서명</th>\n",
       "      <th>살인 발생</th>\n",
       "      <th>살인 검거</th>\n",
       "      <th>강도 발생</th>\n",
       "      <th>강도 검거</th>\n",
       "      <th>강간 발생</th>\n",
       "      <th>강간 검거</th>\n",
       "      <th>절도 발생</th>\n",
       "      <th>절도 검거</th>\n",
       "      <th>폭력 발생</th>\n",
       "      <th>폭력 검거</th>\n",
       "      <th>구별</th>\n",
       "    </tr>\n",
       "  </thead>\n",
       "  <tbody>\n",
       "    <tr>\n",
       "      <th>0</th>\n",
       "      <td>중부서</td>\n",
       "      <td>2</td>\n",
       "      <td>2</td>\n",
       "      <td>3</td>\n",
       "      <td>2</td>\n",
       "      <td>105</td>\n",
       "      <td>65</td>\n",
       "      <td>1395</td>\n",
       "      <td>477</td>\n",
       "      <td>1355</td>\n",
       "      <td>1170</td>\n",
       "      <td>중구</td>\n",
       "    </tr>\n",
       "    <tr>\n",
       "      <th>1</th>\n",
       "      <td>종로서</td>\n",
       "      <td>3</td>\n",
       "      <td>3</td>\n",
       "      <td>6</td>\n",
       "      <td>5</td>\n",
       "      <td>115</td>\n",
       "      <td>98</td>\n",
       "      <td>1070</td>\n",
       "      <td>413</td>\n",
       "      <td>1278</td>\n",
       "      <td>1070</td>\n",
       "      <td>종로구</td>\n",
       "    </tr>\n",
       "    <tr>\n",
       "      <th>2</th>\n",
       "      <td>남대문서</td>\n",
       "      <td>1</td>\n",
       "      <td>0</td>\n",
       "      <td>6</td>\n",
       "      <td>4</td>\n",
       "      <td>65</td>\n",
       "      <td>46</td>\n",
       "      <td>1153</td>\n",
       "      <td>382</td>\n",
       "      <td>869</td>\n",
       "      <td>794</td>\n",
       "      <td>중구</td>\n",
       "    </tr>\n",
       "    <tr>\n",
       "      <th>3</th>\n",
       "      <td>서대문서</td>\n",
       "      <td>2</td>\n",
       "      <td>2</td>\n",
       "      <td>5</td>\n",
       "      <td>4</td>\n",
       "      <td>154</td>\n",
       "      <td>124</td>\n",
       "      <td>1812</td>\n",
       "      <td>738</td>\n",
       "      <td>2056</td>\n",
       "      <td>1711</td>\n",
       "      <td>서대문구</td>\n",
       "    </tr>\n",
       "    <tr>\n",
       "      <th>4</th>\n",
       "      <td>혜화서</td>\n",
       "      <td>3</td>\n",
       "      <td>2</td>\n",
       "      <td>5</td>\n",
       "      <td>4</td>\n",
       "      <td>96</td>\n",
       "      <td>63</td>\n",
       "      <td>1114</td>\n",
       "      <td>424</td>\n",
       "      <td>1015</td>\n",
       "      <td>861</td>\n",
       "      <td>종로구</td>\n",
       "    </tr>\n",
       "  </tbody>\n",
       "</table>\n",
       "</div>"
      ],
      "text/plain": [
       "    관서명  살인 발생  살인 검거  강도 발생  강도 검거  강간 발생  강간 검거  절도 발생  절도 검거  폭력 발생  폭력 검거  \\\n",
       "0   중부서      2      2      3      2    105     65   1395    477   1355   1170   \n",
       "1   종로서      3      3      6      5    115     98   1070    413   1278   1070   \n",
       "2  남대문서      1      0      6      4     65     46   1153    382    869    794   \n",
       "3  서대문서      2      2      5      4    154    124   1812    738   2056   1711   \n",
       "4   혜화서      3      2      5      4     96     63   1114    424   1015    861   \n",
       "\n",
       "     구별  \n",
       "0    중구  \n",
       "1   종로구  \n",
       "2    중구  \n",
       "3  서대문구  \n",
       "4   종로구  "
      ]
     },
     "execution_count": 16,
     "metadata": {},
     "output_type": "execute_result"
    }
   ],
   "source": [
    "crime_anal_police.head()"
   ]
  },
  {
   "cell_type": "markdown",
   "id": "281e6842",
   "metadata": {},
   "source": [
    "##### <span style=\"color:red\"> 2-5. pandas의 pivot_table 학습하기</span>"
   ]
  },
  {
   "cell_type": "code",
   "execution_count": null,
   "id": "5fb03be3",
   "metadata": {},
   "outputs": [],
   "source": []
  }
 ],
 "metadata": {
  "kernelspec": {
   "display_name": "Python 3 (ipykernel)",
   "language": "python",
   "name": "python3"
  },
  "language_info": {
   "codemirror_mode": {
    "name": "ipython",
    "version": 3
   },
   "file_extension": ".py",
   "mimetype": "text/x-python",
   "name": "python",
   "nbconvert_exporter": "python",
   "pygments_lexer": "ipython3",
   "version": "3.7.6"
  }
 },
 "nbformat": 4,
 "nbformat_minor": 5
}
